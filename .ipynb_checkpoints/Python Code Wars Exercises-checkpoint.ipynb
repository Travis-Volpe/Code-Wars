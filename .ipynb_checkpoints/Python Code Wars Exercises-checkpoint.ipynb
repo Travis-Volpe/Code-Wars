{
 "cells": [
  {
   "cell_type": "code",
   "execution_count": 5,
   "metadata": {},
   "outputs": [
    {
     "data": {
      "text/plain": [
       "140781"
      ]
     },
     "execution_count": 5,
     "metadata": {},
     "output_type": "execute_result"
    }
   ],
   "source": [
    "# Multiply\n",
    "def multiply(a, b):\n",
    "  return a * b\n",
    "\n",
    "multiply(167, 843)"
   ]
  },
  {
   "cell_type": "code",
   "execution_count": 7,
   "metadata": {},
   "outputs": [
    {
     "data": {
      "text/plain": [
       "15"
      ]
     },
     "execution_count": 7,
     "metadata": {},
     "output_type": "execute_result"
    }
   ],
   "source": [
    "# Basic Mathematical Operations\n",
    "def basic_op(operator, value1, value2):\n",
    "    if operator == '+':\n",
    "        return value1 + value2\n",
    "    elif operator == '-':\n",
    "        return value1 - value2\n",
    "    elif operator == '*':\n",
    "        return value1 * value2\n",
    "    elif operator == '/':\n",
    "        return value1 / value2\n",
    "    else:\n",
    "        return \"Unrecognized Operator. Please select from Addition (+), Subtraction(-), Multiplication(*) or Division(/)\"\n",
    "    \n",
    "basic_op('+', 5, 10)"
   ]
  },
  {
   "cell_type": "code",
   "execution_count": 8,
   "metadata": {},
   "outputs": [
    {
     "data": {
      "text/plain": [
       "'Odd'"
      ]
     },
     "execution_count": 8,
     "metadata": {},
     "output_type": "execute_result"
    }
   ],
   "source": [
    "# Even or Odd\n",
    "def even_or_odd(number):\n",
    "    if number == 0:\n",
    "        return 'Even'\n",
    "    elif number % 2 == 0:\n",
    "        return 'Even'\n",
    "    elif number % 2 == 1:\n",
    "        return 'Odd'\n",
    "    else:\n",
    "        \"Please enter an integer\"\n",
    "\n",
    "even_or_odd(53)"
   ]
  },
  {
   "cell_type": "code",
   "execution_count": null,
   "metadata": {},
   "outputs": [],
   "source": [
    "# Sum of positive\n",
    "def positive_sum(arr):\n",
    "    sum = 0\n",
    "    for num in arr:\n",
    "        if num > 0:\n",
    "            sum = sum + num\n",
    "    return sum"
   ]
  },
  {
   "cell_type": "code",
   "execution_count": null,
   "metadata": {},
   "outputs": [],
   "source": [
    "# Reversed Strings\n",
    "def solution(string):\n",
    "    return string[::-1]"
   ]
  },
  {
   "cell_type": "code",
   "execution_count": null,
   "metadata": {},
   "outputs": [],
   "source": [
    "# String repeat\n",
    "def repeat_str(repeat, string):\n",
    "    return repeat * string"
   ]
  },
  {
   "cell_type": "code",
   "execution_count": null,
   "metadata": {},
   "outputs": [],
   "source": [
    "# Fizz Buzz\n",
    "def fizzbuzz(n):\n",
    "    arr =[]\n",
    "    for num in range (1, n + 1):\n",
    "        if num % 3 == 0 and num % 5 == 0:\n",
    "            arr.append('FizzBuzz')\n",
    "        elif num % 5 == 0:\n",
    "            arr.append('Buzz')\n",
    "        elif num % 3 == 0:\n",
    "            arr.append('Fizz')\n",
    "        else:\n",
    "            arr.append(num)\n",
    "    return arr"
   ]
  },
  {
   "cell_type": "code",
   "execution_count": null,
   "metadata": {},
   "outputs": [],
   "source": [
    "# Categorize New Member\n",
    "def openOrSenior(data):\n",
    "    list =[]\n",
    "    for i in data:\n",
    "        if i[0] >= 55 and i[1] > 7:\n",
    "            list.append(\"Senior\")\n",
    "        else:\n",
    "            list.append(\"Open\")\n",
    "    return list"
   ]
  },
  {
   "cell_type": "code",
   "execution_count": null,
   "metadata": {},
   "outputs": [],
   "source": [
    "# Substituting Variables Into Strings: Padded Numbers\n",
    "def solution(value):\n",
    "    return \"Value is %05d\" % value"
   ]
  },
  {
   "cell_type": "code",
   "execution_count": null,
   "metadata": {},
   "outputs": [],
   "source": [
    "# Build a Square\n",
    "def generateShape(int):\n",
    "    return '\\n'.join('+'*int for i in range(int))"
   ]
  },
  {
   "cell_type": "code",
   "execution_count": null,
   "metadata": {},
   "outputs": [],
   "source": [
    "# Sum of two lowest positive integers\n",
    "def sum_two_smallest_numbers(numbers_list):\n",
    "    return sum(sorted(numbers_list)[:2])"
   ]
  },
  {
   "cell_type": "code",
   "execution_count": null,
   "metadata": {},
   "outputs": [],
   "source": [
    "# Find Duplicates\n",
    "def duplicates(array):\n",
    "    \n",
    "    uniq = []\n",
    "    dups = []\n",
    "    \n",
    "    for char in array:\n",
    "        if char not in uniq:\n",
    "             uniq.append(char)\n",
    "        elif char not in dups:\n",
    "             dups.append(char)\n",
    "    \n",
    "    return dups"
   ]
  },
  {
   "cell_type": "code",
   "execution_count": null,
   "metadata": {},
   "outputs": [],
   "source": [
    "# Count by X\n",
    "def count_by(x, n):\n",
    "    return [i * x for i in range(1, n + 1)]"
   ]
  },
  {
   "cell_type": "code",
   "execution_count": null,
   "metadata": {},
   "outputs": [],
   "source": [
    "# Character from ASCII Value\n",
    "def get_char(value):\n",
    "    return chr(value)"
   ]
  },
  {
   "cell_type": "code",
   "execution_count": null,
   "metadata": {},
   "outputs": [],
   "source": [
    "# Convert a Boolean to a String\n",
    "def boolean_to_string(bol):\n",
    "    return str(bol)"
   ]
  },
  {
   "cell_type": "code",
   "execution_count": null,
   "metadata": {},
   "outputs": [],
   "source": [
    "# Set Alarm\n",
    "def set_alarm(employed, vacation):\n",
    "    if employed:\n",
    "        if vacation:\n",
    "            return False\n",
    "        return True\n",
    "    return False"
   ]
  },
  {
   "cell_type": "code",
   "execution_count": null,
   "metadata": {},
   "outputs": [],
   "source": [
    "# Third Angle of a Triangle\n",
    "def other_angle(a, b):\n",
    "    if (a or b) < 0:\n",
    "        return \"angle cannot be smaller than 0\"\n",
    "    \n",
    "    else:\n",
    "        return 180-(a+b)"
   ]
  },
  {
   "cell_type": "code",
   "execution_count": null,
   "metadata": {},
   "outputs": [],
   "source": [
    "# Find all pairs"
   ]
  },
  {
   "cell_type": "code",
   "execution_count": null,
   "metadata": {},
   "outputs": [],
   "source": [
    "# Factorial \n",
    "def factorial(n):\n",
    "    j = 1\n",
    "    for i in range(1, n+1):\n",
    "       j *= i\n",
    "    return j        \n",
    "\n",
    "# or if using modules \n",
    "\n",
    "from functools import reduce\n",
    "from operator import imul\n",
    "\n",
    "def factorial(n):\n",
    "  return reduce(imul, range(1, n+1), 1)"
   ]
  },
  {
   "cell_type": "code",
   "execution_count": null,
   "metadata": {},
   "outputs": [],
   "source": [
    "# Sum of all the multiples of 3 or 5\n",
    "def find(n):\n",
    "    return sum(e for e in range(1, n+1) if e % 3 == 0 or e % 5 == 0)\n",
    "\n",
    "# or \n",
    "\n",
    "def find(n):\n",
    "    sum = 0\n",
    "    for i in range(1,n+1):\n",
    "        if i % 3 == 0 or i % 5 == 0:\n",
    "            sum += i\n",
    "    return sum"
   ]
  },
  {
   "cell_type": "code",
   "execution_count": null,
   "metadata": {},
   "outputs": [],
   "source": [
    "#Lowest Squarefree Multiple of an Integer\n",
    "import itertools\n",
    "\n",
    "def lowest_sqfree_mult(n):\n",
    "\n",
    "    # Decompose n into its prime factors\n",
    "    i, f, N = 2, {}, n\n",
    "    while i * i <= N:\n",
    "        if N % i:\n",
    "            i += 1\n",
    "        else:\n",
    "            N //= i\n",
    "            f[i] = f.get(i, 0) + 1\n",
    "            print(i, f)\n",
    "    if N > 1:\n",
    "        f[N] = 1\n",
    "\n",
    "    # Check if we have any square factors\n",
    "    if any(v > 1 for v in f.values()): return -1\n",
    "    \n",
    "    # Loop through primes until we find one not in n\n",
    "    # Python cookbook infinite prime generator modified.\n",
    "    D = {}\n",
    "    if 2 not in f: return n * 2\n",
    "    \n",
    "    for q in itertools.islice(itertools.count(3), 0, None, 2):\n",
    "        p = D.pop(q, None)\n",
    "        if p is None:\n",
    "            D[q*q] = q\n",
    "            if q not in f: return n * q\n",
    "        else:\n",
    "            x = q + 2*p\n",
    "            while x in D:\n",
    "                x += 2*p\n",
    "            D[x] = p\n",
    "\n",
    "# OR \n",
    "\n",
    "from math import floor, sqrt\n",
    "\n",
    "perfect_squares = [i * i for i in range(1, floor(sqrt(2 ** 31)) + 1)]\n",
    "\n",
    "def lowest_sqfree_mult(n):\n",
    "    \n",
    "    global perfect_squares\n",
    "    \n",
    "    if any(n % s == 0 and s != 1 for s in perfect_squares): \n",
    "        return -1 \n",
    "    \n",
    "    lsm = 2 * n\n",
    "    while any(lsm % s == 0 and s != 1 for s in perfect_squares): \n",
    "        lsm += n\n",
    "    \n",
    "    return lsm"
   ]
  }
 ],
 "metadata": {
  "kernelspec": {
   "display_name": "Python 2",
   "language": "python",
   "name": "python2"
  },
  "language_info": {
   "codemirror_mode": {
    "name": "ipython",
    "version": 2
   },
   "file_extension": ".py",
   "mimetype": "text/x-python",
   "name": "python",
   "nbconvert_exporter": "python",
   "pygments_lexer": "ipython2",
   "version": "2.7.15"
  }
 },
 "nbformat": 4,
 "nbformat_minor": 2
}
